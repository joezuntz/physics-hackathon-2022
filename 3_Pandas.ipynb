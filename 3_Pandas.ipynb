{
 "cells": [
  {
   "cell_type": "markdown",
   "id": "unique-malaysia",
   "metadata": {},
   "source": [
    "# Exploring Data With Pandas\n",
    "\n",
    "We have previously used the numpy library to hold and manipulate numerical data.  For more sophisticated data handling we often use the library **Pandas**\n",
    "\n",
    "In this worksheet you will learn to read data in Pandas, and to sort, filter, and plot different data columns.\n",
    "\n",
    "\n",
    "## Using this notebook\n",
    "\n",
    "- You should already have completed [the numpy notebook](1_Numpy.ipynb) and [the matplotlib notebook](2_Matplotlib.ipynb) before trying this one.  The layout is the same.\n",
    "\n",
    "\n",
    "\n",
    "- **Make sure to execute every cell or the ones below may not work**\n"
   ]
  },
  {
   "cell_type": "code",
   "execution_count": null,
   "id": "structured-turning",
   "metadata": {},
   "outputs": [],
   "source": [
    "%matplotlib inline\n",
    "import pandas as pd\n",
    "import matplotlib.pyplot as plt\n",
    "import numpy as np"
   ]
  },
  {
   "cell_type": "markdown",
   "id": "intermediate-liberia",
   "metadata": {},
   "source": [
    "# 1. Reading and Examining Data\n",
    "\n",
    "We will read a data set about Scrabble games played in the North American Scrabble Players Association (NASPA), compiled by the statistics website fivethirtyeight.com for this article:\n",
    "https://fivethirtyeight.com/features/how-qi-and-za-changed-scrabble/\n",
    "\n",
    "This data file is provided in *comma-separated value* (CSV) format, and the pandas library provides a function to read this format, called `read_csv`.  The first thing we do is load this data into a variable.\n",
    "\n",
    "Numpy's primary data structure is an `array`. In Pandas we use the `DataFrame`, which is like a connected set of arrays representing different columns in a table, and an index connecting them all."
   ]
  },
  {
   "cell_type": "code",
   "execution_count": null,
   "id": "warming-healthcare",
   "metadata": {},
   "outputs": [],
   "source": [
    "data = pd.read_csv(\"data/scrabble_games.csv.gz\")\n",
    "print(type(data))"
   ]
  },
  {
   "cell_type": "markdown",
   "id": "cleared-treasury",
   "metadata": {},
   "source": [
    "--- \n",
    "Pandas can also load other forms of data, like JSON or even Excel files."
   ]
  },
  {
   "cell_type": "markdown",
   "id": "alone-capture",
   "metadata": {},
   "source": [
    "\n",
    "\n",
    "As we see, the variable `data` is a Pandas *DataFrame* object, a table with lots of differet columns.  The first thing to do when you load data is learn about what rows and columns it has.  To start with, we can get a summary of the first and last columns and rows just by executing a cell with the variable name in.\n",
    "\n",
    "(In fact when you do this some complicated things are happening under the hood to convert the table to something that can be displayed on a web page, but that's all automatic)\n",
    "\n"
   ]
  },
  {
   "cell_type": "code",
   "execution_count": null,
   "id": "arctic-window",
   "metadata": {},
   "outputs": [],
   "source": [
    "data"
   ]
  },
  {
   "cell_type": "markdown",
   "id": "abstract-hopkins",
   "metadata": {},
   "source": [
    "---\n",
    "\n",
    "We can also show just the top of the data by calling the method `data.head`.  It's usually a good idea to do this when you make a new data set, to check it's what you expect.  You can also look at the attribute `data.columns` to get a list of columns.  \n",
    "\n",
    "## <font color='blue'>Exercise 1</font>  \n",
    "\n",
    "Print a list of columns, and examine the top of the data set\n",
    "\n",
    "Hint: If you correctly display the top of the data set it should be in a nicely formatted table with alternating shading on the rows and bold column names."
   ]
  },
  {
   "cell_type": "code",
   "execution_count": null,
   "id": "automatic-separate",
   "metadata": {},
   "outputs": [],
   "source": [
    "# Space for your workings for this exercise\n"
   ]
  },
  {
   "cell_type": "markdown",
   "id": "delayed-municipality",
   "metadata": {},
   "source": [
    "---\n",
    "\n",
    "# 2. Rows & Columns\n",
    "\n",
    "Just like with a numpy array, pandas lets us pick out specific rows and columns to look at.\n",
    "\n",
    "Unlike numpy, square brackets on their own always pick out a column, never a row, and you use a string to choose which column:"
   ]
  },
  {
   "cell_type": "code",
   "execution_count": null,
   "id": "anticipated-guitar",
   "metadata": {},
   "outputs": [],
   "source": [
    "data['winnername']"
   ]
  },
  {
   "cell_type": "markdown",
   "id": "cooked-yacht",
   "metadata": {},
   "source": [
    "The first column shown above is the index, which we will disuss later.  The second is the winner's name.\n",
    "\n",
    "---\n",
    "\n",
    "After we pick out a column, we can then use most of the same methods on it as numpy arrays.\n",
    "\n",
    "## <font color='blue'>Exercise 2</font>  \n",
    "\n",
    "Find the maximum winning score in all the data"
   ]
  },
  {
   "cell_type": "code",
   "execution_count": null,
   "id": "adjacent-football",
   "metadata": {},
   "outputs": [],
   "source": [
    "# Space for your working for this exercise\n"
   ]
  },
  {
   "cell_type": "markdown",
   "id": "realistic-welding",
   "metadata": {},
   "source": [
    "---\n",
    "\n",
    "Handily, pandas can also compute statistics for all columns at the same time.  For example, this will find the minimum of all the columns:"
   ]
  },
  {
   "cell_type": "code",
   "execution_count": null,
   "id": "restricted-collect",
   "metadata": {},
   "outputs": [],
   "source": [
    "data.min()"
   ]
  },
  {
   "cell_type": "markdown",
   "id": "brown-sensitivity",
   "metadata": {},
   "source": [
    "Somehow it's possible to win with a negative score!  Or possibly that score was incorrectly recorded - that seems a bit more likely.  Note that these minima don't all refer to the same row - they are the minimum values for each column separately.\n",
    "\n",
    "---\n",
    "\n",
    "It's very easy to create new columns.  You can just assign to a new column name, e.g. `data[\"new_name\"] = ...`\n",
    "\n",
    "## <font color='blue'>Exercise 3</font> \n",
    "\n",
    "Make a new column on the data set called `margin` which is the difference between the winning and losing score.\n",
    "\n",
    "Hints: If you mess up the dataframe somehow you can always re-load it by running the `read_csv` cell near the top of the page.\n",
    "\n",
    "Don't worry if there's something strange about the new column you make - we will get to that in a moment!"
   ]
  },
  {
   "cell_type": "code",
   "execution_count": null,
   "id": "entitled-florist",
   "metadata": {},
   "outputs": [],
   "source": [
    "# Space for your working for this exercise\n"
   ]
  },
  {
   "cell_type": "markdown",
   "id": "twenty-turkey",
   "metadata": {},
   "source": [
    "---\n",
    "We can also pick out a specific row using the `iloc` attribute. This can look a bit strange, but we use square brackets with `iloc`.  Let's have a look at the game 10 in the data."
   ]
  },
  {
   "cell_type": "code",
   "execution_count": null,
   "id": "complex-shipping",
   "metadata": {},
   "outputs": [],
   "source": [
    "data.iloc[10]"
   ]
  },
  {
   "cell_type": "markdown",
   "id": "bacterial-rescue",
   "metadata": {},
   "source": [
    "Interesting - it looks like for this match, and presumably others, both the winner and loser scores are recorded as zero.  That probably means they weren't recorded.  Data cleaning like this is a key part of data science!  We will get to dealing with it below.\n",
    "\n",
    "---\n",
    "\n",
    "## <font color='blue'>Exercise 4</font>  \n",
    "\n",
    "\n",
    "Print out the complete information for the match with the highest winning score\n",
    "\n",
    "Hint: Select the column for the winning score, and then use the `argmax` method on it, which gives you a row number for the maximum value in a series.  Then you can look up the row with that index."
   ]
  },
  {
   "cell_type": "code",
   "execution_count": null,
   "id": "alpine-boards",
   "metadata": {},
   "outputs": [],
   "source": [
    "# Space for your working for this exercise\n"
   ]
  },
  {
   "cell_type": "markdown",
   "id": "clear-diesel",
   "metadata": {},
   "source": [
    "---\n",
    "\n",
    "# 3. Comparisons\n",
    "\n",
    "Just like in numpy, we can compare columns to single values, or colums to other columns.  The latter gives us a series of True/False values, which we can use as an index into the table.\n",
    "\n",
    "For example, this will show us all the games won by Mike Martin:\n"
   ]
  },
  {
   "cell_type": "code",
   "execution_count": null,
   "id": "naked-blink",
   "metadata": {},
   "outputs": [],
   "source": [
    "# step 1: make a series of True/False values using data['winnername'] == \"Mike Martin\"\n",
    "mike_rows = data['winnername'] == \"Mike Martin\"\n",
    "# step 2: use this series to extract these chosen rows from the full table\n",
    "data[mike_rows]\n",
    "\n",
    "# We could combine this into a single line and avoid making mike_rows if we wanted, though \n",
    "# if we were using this index more than once then that would be less efficient."
   ]
  },
  {
   "cell_type": "markdown",
   "id": "cooked-pillow",
   "metadata": {},
   "source": [
    "--- \n",
    "\n",
    "There are some more problems with this data that we should look at!\n",
    "\n",
    "## <font color='blue'>Exercise 5</font>  \n",
    "\n",
    "Show a table of all the rows where the winner and loser had the same name.\n"
   ]
  },
  {
   "cell_type": "code",
   "execution_count": null,
   "id": "opponent-arctic",
   "metadata": {},
   "outputs": [],
   "source": [
    "# Space for your working for this exercise\n"
   ]
  },
  {
   "cell_type": "markdown",
   "id": "varying-photograph",
   "metadata": {},
   "source": [
    "---\n",
    "\n",
    "# 4. Filtering\n",
    "\n",
    "We've now found a few problems, which we should clean from our data.\n",
    "- winner name same as loser name\n",
    "- winner and loser scores both zero\n",
    "- winner and loser old and new player ratings all zero\n",
    "\n",
    "Note that some of our \"bad\" data might be okay, depending what we're looking for.  For example, if we were not studying individual scores then we wouldn't care if they were wrongly recorded.\n",
    "\n",
    "We could use square brackets as above to do this, but pandas lets us write things more cleanly using the `query` method of a data frame to do this.  Querying makes a new data frame from the old one, based on some selection criteria, which can use the columns names as variables.\n",
    "\n",
    "First let's filter out all the cases where the winner and loser have the same name.\n",
    "The easiest way to use query is to call it with a string that describes the search you want.  You can use the column names like variables (enclosing them in backticks (\\` \\`) if they have spaces or other punctuation in)."
   ]
  },
  {
   "cell_type": "code",
   "execution_count": null,
   "id": "northern-convenience",
   "metadata": {},
   "outputs": [],
   "source": [
    "# This will make a new data frame consisting only of rows where the winner and loser names are not equal.\n",
    "data.query(\"winnername != losername\")"
   ]
  },
  {
   "cell_type": "markdown",
   "id": "elder-accused",
   "metadata": {},
   "source": [
    "--- \n",
    "Calling `query` returns a new `DataFrame` object.  That means you can \"chain\" queries one after the other, by calling `query` again on the result of query, like this:\n",
    "\n",
    "``data.query(\"...\").query(\"...\").query(\"...\")``\n",
    "\n",
    "## <font color='blue'>Exercise 6</font>  \n",
    "\n",
    "\n",
    "Use `query` to make a data frame called `data2` that filters out the cases where the winner and loser names are the same, or where the winner and loser scores are both equal to zero.\n",
    "\n",
    "Display the head of `data2`.\n",
    "\n",
    "Bonus: this is a bit harder, but you can also try filtering out the cases where all the four ratings (old and new for loser and winner) are zero.\n",
    "\n",
    "Hint: You can use `and` in your queries."
   ]
  },
  {
   "cell_type": "code",
   "execution_count": null,
   "id": "constitutional-consumption",
   "metadata": {},
   "outputs": [],
   "source": [
    "# Space for your working for this exercise\n"
   ]
  },
  {
   "cell_type": "markdown",
   "id": "cellular-harris",
   "metadata": {},
   "source": [
    "---\n",
    "\n",
    "Notice the first column in the table, which is unlabelled and in bold.  This is the *index* of the table.  The index of a row stays the same even when you cut other rows out of the table, unlike the number of thee row, so you can use it to reliably identify I row.\n",
    "\n",
    "You can select a row by index using the `loc` attribute, which works in exactly the same way as the `iloc` attribute but looks up by index rather than row number.\n",
    "\n",
    "## <font color='blue'>Exercise 7</font>  \n",
    "\n",
    "Show that the index is preserved when cutting out rows by comparing the row with index 143490 in the `data` and `data2` variables.\n"
   ]
  },
  {
   "cell_type": "code",
   "execution_count": null,
   "id": "ceramic-microwave",
   "metadata": {},
   "outputs": [],
   "source": [
    "# Space for your working for this exercise\n"
   ]
  },
  {
   "cell_type": "markdown",
   "id": "copyrighted-progressive",
   "metadata": {},
   "source": [
    "--- \n",
    "## <font color='blue'>Exercise 8</font>  \n",
    "\n",
    "Now that we have filtered out much of the faulty data, compute the average difference between the winning and losing score in the data.\n",
    "\n",
    "Hint: Get each of the relevant column and use the `mean()` method on it."
   ]
  },
  {
   "cell_type": "code",
   "execution_count": null,
   "id": "stylish-handy",
   "metadata": {},
   "outputs": [],
   "source": [
    "# Space for your working for this exercise\n"
   ]
  },
  {
   "cell_type": "markdown",
   "id": "transsexual-sport",
   "metadata": {},
   "source": [
    "---\n",
    "\n",
    "As well as filtering data we can sort it by a column of our choice, using the `sort_values` method.  We just have to specify a column to sort by.  By default, this returns a new sorted copy of the data.\n",
    "\n",
    "\n",
    "## <font color='blue'>Exercise 9</font>  \n",
    "\n",
    "Show a data frame sorted by your `margin` column"
   ]
  },
  {
   "cell_type": "code",
   "execution_count": null,
   "id": "powered-disclosure",
   "metadata": {},
   "outputs": [],
   "source": [
    "# Space for your working for this exercise\n"
   ]
  },
  {
   "cell_type": "markdown",
   "id": "sweet-partition",
   "metadata": {},
   "source": [
    "---\n",
    "\n",
    "# 5. Plotting\n",
    "\n",
    "Pandas data frames and series have methods which call Matplotlib to make plots of the data within them.  You can typically either extract a single column and then make a plot of it, or specify columns for plotting directly.\n",
    "\n",
    "The most direct way to do make plots is to call the plot method on a `DataFrame` object, and specify x and/or y, as column names, what kind of plot you want, and some options.\n",
    "\n",
    "For example, let's make a scatter plot of the winning scores vs losing scores as a scatter plot:"
   ]
  },
  {
   "cell_type": "code",
   "execution_count": null,
   "id": "brutal-chapel",
   "metadata": {},
   "outputs": [],
   "source": [
    "data2.plot(x='loserscore', y='winnerscore', kind='scatter', s=1)"
   ]
  },
  {
   "cell_type": "markdown",
   "id": "caring-naples",
   "metadata": {},
   "source": [
    "## <font color='blue'>Exercise 10</font>  \n",
    "\n",
    "What is weird here?  Describe this and two possibilities about what could be going on as comments in the next cell, as comments."
   ]
  },
  {
   "cell_type": "code",
   "execution_count": null,
   "id": "european-aggregate",
   "metadata": {},
   "outputs": [],
   "source": [
    "# Space for your working for this exercise\n"
   ]
  },
  {
   "cell_type": "markdown",
   "id": "acquired-horse",
   "metadata": {},
   "source": [
    "---\n",
    "## <font color='blue'>Exercise 11</font>  \n",
    "\n",
    "Make a histogram of the winning scores in your filtered data.\n",
    "\n",
    "Hints: run a cell containing `data2.plot?` to show the help for the plotting function and find out how to make a histogram.\n",
    "\n",
    "The `x` parameter is not needed here, and you can specify the option `bins` to increase the number of histogram bins"
   ]
  },
  {
   "cell_type": "code",
   "execution_count": null,
   "id": "parliamentary-reception",
   "metadata": {},
   "outputs": [],
   "source": [
    "# Space for your working for this exercise\n"
   ]
  },
  {
   "cell_type": "markdown",
   "id": "excited-bernard",
   "metadata": {},
   "source": [
    "--- \n",
    "\n",
    "If you want to put multiple plots on the same axis you can do that easily.  The first call to `plot` will return an axis object, which you can pass to later plots in the `ax` keyword to use the same one.  For example, here is the winning and losing scores on the same axis:"
   ]
  },
  {
   "cell_type": "code",
   "execution_count": null,
   "id": "academic-march",
   "metadata": {},
   "outputs": [],
   "source": [
    "ax = data2.plot(y='loserscore', kind='hist', bins=50, alpha=0.4)\n",
    "data2.plot(y='winnerscore', kind='hist', bins=50, ax=ax, alpha=0.4)\n",
    "# The alpha number makes each plot partially transparent so we can see both."
   ]
  },
  {
   "cell_type": "markdown",
   "id": "anticipated-specification",
   "metadata": {},
   "source": [
    "---\n",
    "# 6. Grouping\n",
    "\n",
    "It is often useful to split a data set into groups depending on one of the variables.  For example. in this case all the matches are in one of 13 divisions, and we could compare scores between them.\n",
    "\n",
    "Pandas lets us do this using the `groupby` method.  This returns a special object representing the data frame split by a chosen variable:"
   ]
  },
  {
   "cell_type": "code",
   "execution_count": null,
   "id": "young-zoning",
   "metadata": {},
   "outputs": [],
   "source": [
    "gb = data2.groupby('division')"
   ]
  },
  {
   "cell_type": "markdown",
   "id": "practical-folder",
   "metadata": {},
   "source": [
    "We can now call lots of the same methods (min, max, mean, etc.) on the group object that we can call on individual data frames or series, which will return a new data frame, where the index is the thing we grouped on. For example, let's find the highest winning score in each division.\n",
    "\n",
    "We get the column we want to extract, and take the max value of it, just like we did before, but this time it is split by division:"
   ]
  },
  {
   "cell_type": "code",
   "execution_count": null,
   "id": "miniature-examination",
   "metadata": {},
   "outputs": [],
   "source": [
    "gb['winnerscore'].max()"
   ]
  },
  {
   "cell_type": "markdown",
   "id": "funded-think",
   "metadata": {},
   "source": [
    "---\n",
    "Some things are a bit too complicated to do directly on the grouped object. In these situations we can loop explicitly through the groups using the `for ... in ... ` syntax.  This yields pairs of the value we grouped on and the group itself.\n",
    "\n",
    "For example, let's find the largest margin match in each division and print some info about it:"
   ]
  },
  {
   "cell_type": "code",
   "execution_count": null,
   "id": "christian-turner",
   "metadata": {},
   "outputs": [],
   "source": [
    "for division, group in gb:\n",
    "    # find the maximum margin row number\n",
    "    i = group['margin'].argmax()\n",
    "    # get the row for that margin\n",
    "    row = group.iloc[i]\n",
    "    # print a message about that match.  The f before the first quotation mark\n",
    "    # lets us use variable names in curly brackets in the string\n",
    "    print(f\"Division {division}: {row['winnername']} beat {row['losername']} by {row['margin']} points\")"
   ]
  },
  {
   "cell_type": "markdown",
   "id": "outdoor-december",
   "metadata": {},
   "source": [
    "--- \n",
    "## <font color='blue'>Exercise 12</font>  \n",
    "\n",
    "\n",
    "Make a plot of the mean winning score as a function of the division.\n",
    "\n",
    "Hint: There are several ways to do this!"
   ]
  },
  {
   "cell_type": "code",
   "execution_count": null,
   "id": "informative-juvenile",
   "metadata": {
    "scrolled": true
   },
   "outputs": [],
   "source": [
    "# Space for your working for this exercise\n"
   ]
  }
 ],
 "metadata": {
  "kernelspec": {
   "display_name": "Python 3 (ipykernel)",
   "language": "python",
   "name": "python3"
  },
  "language_info": {
   "codemirror_mode": {
    "name": "ipython",
    "version": 3
   },
   "file_extension": ".py",
   "mimetype": "text/x-python",
   "name": "python",
   "nbconvert_exporter": "python",
   "pygments_lexer": "ipython3",
   "version": "3.9.12"
  }
 },
 "nbformat": 4,
 "nbformat_minor": 5
}

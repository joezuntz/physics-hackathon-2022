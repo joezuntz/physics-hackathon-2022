{
 "cells": [
  {
   "cell_type": "markdown",
   "id": "objective-roberts",
   "metadata": {},
   "source": [
    "# Numerical Python Refresher\n",
    "\n",
    "You should already have used numerical python (numpy) at least a little.\n",
    "\n",
    "In this worksheet you will refresh that knowledge and explore some things that numpy can do.\n",
    "\n",
    "You can skip it if you're already comfortable with numpy, or perhaps skip to the last couple of exercises.\n",
    "\n",
    "---\n",
    "\n",
    "\n",
    "## Using this notebook\n",
    "\n",
    "- If you haven't used a notebook like this before before, run through the [introduction to Jupyter notebook](0_Notebooks.ipynb). \n",
    "\n",
    "\n",
    "- Underneath the \"Exercise\" descriptions there is a place for you to write the code. \n"
   ]
  },
  {
   "cell_type": "markdown",
   "id": "chemical-soviet",
   "metadata": {},
   "source": [
    "--- \n",
    "\n",
    "# Introduction\n",
    "\n",
    "\n",
    "Python has several built-in data types, including for:\n",
    "\n",
    "- integers (whole numbers)\n",
    "- floating-point numbers (real/decimal)\n",
    "- lists (ordered sequences of any other variable)\n",
    "- dictionaries (look-up tables from one variable to another)\n",
    "\n",
    "Numpy adds a new data type, the *array*, which is a very efficient way of storing large collections, often of numbers but also other objects.  In this notebook we will learn about creating, using, exploring, and loading/saving arrays.\n"
   ]
  },
  {
   "cell_type": "code",
   "execution_count": null,
   "id": "apart-screw",
   "metadata": {},
   "outputs": [],
   "source": [
    "# This loads numerical python, the standard python library, and renames\n",
    "# it to \"np\" so we can type it more quickly later.\n",
    "import numpy as np"
   ]
  },
  {
   "cell_type": "markdown",
   "id": "enhanced-growing",
   "metadata": {},
   "source": [
    "Numpy arrays are different to standard python lists in a few ways:\n",
    "\n",
    "- Lists can mix different types of value, like `[1.4,  72, \"cat\"]`, but arrays are fixed\n",
    "- You can do mathematics with arrays (we will discuss this below)\n",
    "- Lists get very slow when they are large; arrays can be very fast even when they have millions of entries\n",
    "    \n",
    "If you are doing any kind of complex data analysis then you usually want to use arrays.  Use lists when you have a few small items to pass around."
   ]
  },
  {
   "cell_type": "markdown",
   "id": "metallic-vietnamese",
   "metadata": {},
   "source": [
    "---"
   ]
  },
  {
   "cell_type": "markdown",
   "id": "studied-ensemble",
   "metadata": {},
   "source": [
    "# 1. Making Arrays\n",
    "\n",
    "There are lots of ways to make arrays:\n",
    "- `np.zeros(n)` makes an array which is initially full of `n` zero values\n",
    "- `np.ones(n)` makes an array which is initially full of `n` one values\n",
    "- `np.array(x)` converts some `x` (e.g. a list) into an array\n",
    "- `np.arange(a, b)` makes an array of [$a$, $a+1$, $a+2$, ..., $b-1$]\n",
    "- `np.linspace(x, y, n)` makes an array of `n` values evenly spaced between `x` and `y`\n",
    "- `np.repeat(x, n)` makes an array of `n` copies of `x`\n",
    "\n",
    "For example:"
   ]
  },
  {
   "cell_type": "code",
   "execution_count": null,
   "id": "present-router",
   "metadata": {},
   "outputs": [],
   "source": [
    "a = np.zeros(5)\n",
    "print(\"Array of zeros:\", a)\n",
    "\n",
    "a = np.arange(5, 10)\n",
    "print(\"Array from 5 to 9:\", a)\n",
    "\n",
    "a = np.repeat(3, 7)\n",
    "print(\"Array of seven threes:\", a)\n"
   ]
  },
  {
   "cell_type": "markdown",
   "id": "average-clark",
   "metadata": {},
   "source": [
    "You may notice that some of the arrays we made above have decimal points after the numbers. These arrays are contain decimal (or *floating point*) numbers; the ones without the points are whole numbers (*integers*). This is the data type of the array, and you can set it explicitly by adding the argument `dtype=int` or `dtype=float` to most of the functions above. Otherwise, numpy will try to guess what you want."
   ]
  },
  {
   "cell_type": "markdown",
   "id": "empty-marker",
   "metadata": {},
   "source": [
    "---\n",
    "\n",
    "## <font color='blue'>Exercise 1</font>  \n",
    "\n",
    "Make a list of a few  numbers (you can choose which ones and how many) called `b` and convert it into an array called `c`.\n",
    "\n",
    "Hint: Look at the list of functions above for one which does this."
   ]
  },
  {
   "cell_type": "code",
   "execution_count": null,
   "id": "exclusive-integrity",
   "metadata": {},
   "outputs": [],
   "source": [
    "# Space for your workings for this exercise\n"
   ]
  },
  {
   "cell_type": "markdown",
   "id": "invalid-contribution",
   "metadata": {},
   "source": [
    "---\n",
    "\n",
    "Arrays can also have *dimensions*.  They can be 2D, representing a matrix or a map, or 3D, or higher.  For example, you might use a 3D array to represent an image with red, blue, and green colours.\n",
    "\n",
    "You make higher dimensional arrays by specifying a shape for the array instead of just a size, as a tuple (round brackets), for example:"
   ]
  },
  {
   "cell_type": "code",
   "execution_count": null,
   "id": "reflected-lemon",
   "metadata": {},
   "outputs": [],
   "source": [
    "d = np.zeros((10, 10))\n",
    "print(d)"
   ]
  },
  {
   "cell_type": "markdown",
   "id": "novel-ticket",
   "metadata": {},
   "source": [
    "---\n",
    "\n",
    "## <font color='blue'>Exercise 2</font>  \n",
    "\n",
    "Make and print an array called `e` which is a 5 x 6 matrix full of ones.\n",
    "\n",
    "Hint: See the list of methods above on how to create an array of ones."
   ]
  },
  {
   "cell_type": "code",
   "execution_count": null,
   "id": "tired-liberal",
   "metadata": {},
   "outputs": [],
   "source": [
    "# Space for your working\n"
   ]
  },
  {
   "cell_type": "markdown",
   "id": "choice-clear",
   "metadata": {},
   "source": [
    "--- \n",
    "\n",
    "# 2. Properties\n",
    "\n",
    "Arrays have various properties that you access with the dot (`.`) syntax, like other python objects.  These include the size, shape, number of dimensions, and data type of the object.  For example:"
   ]
  },
  {
   "cell_type": "code",
   "execution_count": null,
   "id": "rough-economics",
   "metadata": {},
   "outputs": [],
   "source": [
    "f = np.zeros((4, 8))\n",
    "print(f.shape)\n",
    "print(f.size)"
   ]
  },
  {
   "cell_type": "markdown",
   "id": "divided-casting",
   "metadata": {},
   "source": [
    "--- \n",
    "You can explore the properties of an array (or any other object) by typing the variable name in a cell, followed by a dot (no space between them), then pressing TAB to show a drop-down list of available properties.\n",
    "\n",
    "## <font color='blue'>Exercise 3</font>\n",
    "\n",
    "Display the number of dimensions and the data type of the array `g`.\n",
    "\n",
    "Hint: Most properties have straightforward names; the datatype is not just called `data` though."
   ]
  },
  {
   "cell_type": "code",
   "execution_count": null,
   "id": "hybrid-mediterranean",
   "metadata": {},
   "outputs": [],
   "source": [
    "g = np.zeros((4, 8))\n",
    "\n",
    "# Space for your working\n"
   ]
  },
  {
   "cell_type": "markdown",
   "id": "opposite-integrity",
   "metadata": {},
   "source": [
    "---\n",
    "\n",
    "While it's possible to change some of these properties manually, it's usually a bad idea.  If you want to change the shape or type of an array (for example to convert text to numbers, or integers to reals), there are several methods to do that: `z.reshape(new_shape)` and `z.astype(new_type)`\n",
    "\n",
    "## <font color='blue'>Exercise 4</font>  \n",
    "\n",
    "Convert the array `h` to a 2 x 15 array of integers.\n",
    "\n",
    "Hint: you will need to combine the two methods above.  You can do this without creating a new variable, by \"chaining\" methods."
   ]
  },
  {
   "cell_type": "code",
   "execution_count": null,
   "id": "olive-nowhere",
   "metadata": {},
   "outputs": [],
   "source": [
    "h = np.ones((6, 5))\n",
    "\n",
    "# Space for your working\n"
   ]
  },
  {
   "cell_type": "markdown",
   "id": "postal-documentation",
   "metadata": {},
   "source": [
    "---\n",
    "\n",
    "\n",
    "# 3. Mathematics\n",
    "\n",
    "The first main difference between lists and arrays is that we can do maths on arrays all at once.  \n",
    "\n",
    "For example, adding two *lists* together merges the two lists into one longer list, but adding two *arrays* together does maths and addes them together element-by-element:"
   ]
  },
  {
   "cell_type": "code",
   "execution_count": null,
   "id": "organic-palace",
   "metadata": {},
   "outputs": [],
   "source": [
    "k = [1, 2, 3]\n",
    "m = np.array([1, 2, 3])\n",
    "\n",
    "print(\"Adding lists: \", k + k)\n",
    "print(\"Adding arrays: \", m + m)\n",
    "print(\"Squaring arrays: \", m**2)\n",
    "\n",
    "# This does not work - try uncommenting it and re-executing the cell to see the error\n",
    "#print(\"Squaring lists: \", k**2)"
   ]
  },
  {
   "cell_type": "markdown",
   "id": "binary-illinois",
   "metadata": {},
   "source": [
    "---\n",
    "\n",
    "You can add / multiply / etc values to an array all at once, either single (scalar) values or other arrays"
   ]
  },
  {
   "cell_type": "code",
   "execution_count": null,
   "id": "answering-literature",
   "metadata": {},
   "outputs": [],
   "source": [
    "n = np.array([1., 3., 4.])\n",
    "\n",
    "# Let's make a new array with some weird function of this array\n",
    "# Note that we can both add a single value to the array (the + 1),\n",
    "# and also take an array's reciprocal, etc.\n",
    "1 / (n + 1) * 100 + n**2"
   ]
  },
  {
   "cell_type": "markdown",
   "id": "scheduled-triple",
   "metadata": {},
   "source": [
    "Arrays generally have to be the same size to do maths with them together:"
   ]
  },
  {
   "cell_type": "code",
   "execution_count": null,
   "id": "improved-uganda",
   "metadata": {},
   "outputs": [],
   "source": [
    "# these two are size 3 arrays\n",
    "o = np.array([4, 5, 6])\n",
    "p = np.array([7, 8, 9])\n",
    "\n",
    "# this is a size 2 array\n",
    "q = np.array([10, 11])\n",
    "\n",
    "# works, same size:\n",
    "o + p\n",
    "\n",
    "# This does not work - try uncommenting it to see\n",
    "# p + q"
   ]
  },
  {
   "cell_type": "markdown",
   "id": "beneficial-address",
   "metadata": {},
   "source": [
    "---\n",
    "\n",
    "Numpy has a large number of mathematical functions that can operate on arrays automatically, including trig functions, roots, and linear algebra.\n",
    "\n",
    "## <font color='blue'>Exercise 5</font>  \n",
    "\n",
    "Make an array of 100 values evenly spaced between 1 and 10, and then show the logarithm to base 10 of them.\n",
    "\n",
    "(Log values are often useful for visualizing information that extends over a very wide range; we will see that later).\n",
    "\n",
    "Hint: Look at the list of functions above to make the initial array.  You can explore the list of numpy functions by typing `np.` and pressing TAB."
   ]
  },
  {
   "cell_type": "code",
   "execution_count": null,
   "id": "collaborative-psychology",
   "metadata": {},
   "outputs": [],
   "source": [
    "# Space for your working\n"
   ]
  },
  {
   "cell_type": "markdown",
   "id": "allied-westminster",
   "metadata": {},
   "source": [
    "---\n",
    "\n",
    "You can also perform mathematical comparisons (less than, greater than, equal to, etc.) on entire arrays; the result will be an array of True/False type (called `bool`s in python, after [George Boole](https://en.wikipedia.org/wiki/George_Boole)):"
   ]
  },
  {
   "cell_type": "code",
   "execution_count": null,
   "id": "vocational-color",
   "metadata": {},
   "outputs": [],
   "source": [
    "r = np.arange(-10, 10)\n",
    "print(r)\n",
    "print(r > 0)"
   ]
  },
  {
   "cell_type": "markdown",
   "id": "assured-sheep",
   "metadata": {},
   "source": [
    "You can't use the regular python `and` and `or` commands to combine multiple conditions together.  Instead you have to use the symbols:\n",
    "- `&` (\"and\")\n",
    "- `|` (\"or\")\n",
    "- `~` (\"not\").  \n",
    "\n",
    "## <font color='blue'>Exercise 6</font>  \n",
    "\n",
    "Make a True/False array matching the variable `r` which is True whenever x is positive and less then 5.\n",
    "\n",
    "Hint: Bracket the two parts of your condition carefully."
   ]
  },
  {
   "cell_type": "code",
   "execution_count": null,
   "id": "general-clearing",
   "metadata": {},
   "outputs": [],
   "source": [
    "r = np.arange(-10, 10)\n",
    "\n",
    "# Space for your working:\n"
   ]
  },
  {
   "cell_type": "markdown",
   "id": "flying-combat",
   "metadata": {},
   "source": [
    "---\n",
    "\n",
    "# 4. Indexing\n",
    "\n",
    "## 4.1 Single Indices\n",
    "\n",
    "You can extract values from an array using square brackets (just like you can with a list). Remember that indices in python start at zero.\n",
    "\n",
    "Handily, you can also use negative indices to start from the end of the array (-1 is the last element, -2 the second-to-last, etc.):"
   ]
  },
  {
   "cell_type": "code",
   "execution_count": null,
   "id": "similar-prediction",
   "metadata": {},
   "outputs": [],
   "source": [
    "s = np.arange(-5, 5)\n",
    "print(\"s =\", s)\n",
    "print(\"fourth element= \", s[3])\n",
    "print(\"last element =\" , s[-1])\n",
    "print(\"second-to-last element = \", s[-2])"
   ]
  },
  {
   "cell_type": "markdown",
   "id": "proud-spirituality",
   "metadata": {},
   "source": [
    "You can modify values in an array with square brackets too:"
   ]
  },
  {
   "cell_type": "code",
   "execution_count": null,
   "id": "ruled-destruction",
   "metadata": {},
   "outputs": [],
   "source": [
    "t = np.arange(-5, 5)\n",
    "print(t)\n",
    "t[0] = -2         # setting a single value\n",
    "t[1] = t[1] + 10  # adding to a single value\n",
    "t[2] -= 5         # this is shorthand for x[2] = x[2] - 5\n",
    "t[-1] *= 10       # shorthand; multiplying a single value\n",
    "print(t)\n"
   ]
  },
  {
   "cell_type": "markdown",
   "id": "instrumental-distance",
   "metadata": {},
   "source": [
    "---\n",
    "\n",
    "### 4.2 Ranges\n",
    "\n",
    "You can also reference a range of array elements using the `:` syntax.  The index `a:b` means \"the range from `a` to `b`\"\n",
    " (not including the end point):"
   ]
  },
  {
   "cell_type": "code",
   "execution_count": null,
   "id": "passing-tucson",
   "metadata": {},
   "outputs": [],
   "source": [
    "u = np.arange(-5, 5)\n",
    "\n",
    "print(u)\n",
    "print(u[1:4])"
   ]
  },
  {
   "cell_type": "markdown",
   "id": "emotional-paris",
   "metadata": {},
   "source": [
    "If you leave out the start or end (`a` or `b`) then the range will go to the start or end of the whole array:"
   ]
  },
  {
   "cell_type": "code",
   "execution_count": null,
   "id": "about-application",
   "metadata": {},
   "outputs": [],
   "source": [
    "v = np.arange(-5, 5)\n",
    "\n",
    "print(\"First three elements = \", v[:3])"
   ]
  },
  {
   "cell_type": "markdown",
   "id": "sudden-venice",
   "metadata": {},
   "source": [
    "## <font color='blue'>Exercise 7</font>  \n",
    "\n",
    "Print the last three elements of `w`."
   ]
  },
  {
   "cell_type": "code",
   "execution_count": null,
   "id": "conceptual-polyester",
   "metadata": {},
   "outputs": [],
   "source": [
    "w = np.arange(-5, 5)\n",
    "\n",
    "# Space for your working:\n"
   ]
  },
  {
   "cell_type": "markdown",
   "id": "second-monthly",
   "metadata": {},
   "source": [
    "---\n",
    "\n",
    "As well as using single numbers and ranges, there are two other ways to index numpy arrays:\n",
    "- with a list or array of integer indices\n",
    "- with a boolean True/False list or array, the same size as the indexed array\n",
    "\n",
    "\n",
    "For example:"
   ]
  },
  {
   "cell_type": "code",
   "execution_count": null,
   "id": "stuffed-philippines",
   "metadata": {},
   "outputs": [],
   "source": [
    "x = np.array([4, 8, 15, 16, 23, 42])\n",
    "\n",
    "# A list of integer indices - will print the\n",
    "# first, fourth, and sixth elements of x\n",
    "y = [0, 3, 5]\n",
    "print(x[y])\n",
    "\n",
    "# A list of bools - will print the values of x\n",
    "# where y is True, and not where it is False\n",
    "y = [True, False, True, False, True, False]\n",
    "print(x[y])"
   ]
  },
  {
   "cell_type": "markdown",
   "id": "neutral-holocaust",
   "metadata": {},
   "source": [
    "---\n",
    "\n",
    "## <font color='blue'>Exercise 8</font>  \n",
    "\n",
    "Use what you learned above about mathematical comparisons to make a True/False index that indicates where the values of the `x` array below are positive, and then use that index to show a version of `z` with negative values removed."
   ]
  },
  {
   "cell_type": "code",
   "execution_count": null,
   "id": "subtle-ultimate",
   "metadata": {},
   "outputs": [],
   "source": [
    "z = np.array([-7, 14, 3, -100, -3, 0, 9, 17])\n",
    "\n",
    "# Space for your working\n"
   ]
  },
  {
   "cell_type": "markdown",
   "id": "hazardous-brass",
   "metadata": {},
   "source": [
    "This is a common way to filter arrays.\n",
    "\n",
    "---\n",
    "\n",
    "You can also modify entire ranges or selections at once.  For example, this will change all -100 values in the data to zero:"
   ]
  },
  {
   "cell_type": "code",
   "execution_count": null,
   "id": "hairy-circumstances",
   "metadata": {},
   "outputs": [],
   "source": [
    "A = np.array([-7, 14, 3, -100, -3, 0, 9, -100, 0, -100])\n",
    "A[A == -100] = 0\n",
    "print(A)"
   ]
  },
  {
   "cell_type": "markdown",
   "id": "listed-audit",
   "metadata": {},
   "source": [
    "---\n",
    "\n",
    "## 4.3 Higher dimension indices\n",
    "\n",
    "You can also look up values in higher dimensional arrays.  To get one element you provide as many indices as there are dimensions, separated by commas.  For example:"
   ]
  },
  {
   "cell_type": "code",
   "execution_count": null,
   "id": "north-living",
   "metadata": {},
   "outputs": [],
   "source": [
    "# To create a new 2D array you can used nested square brackets (i.e. a list of lists):\n",
    "B = np.array([[1, 2, 3, 4], [5, 6, 7, 8], [9, 10, 11, 12]])\n",
    "\n",
    "print(\"Full matrix:\\n\", B)\n",
    "print(\"\")\n",
    "print(\"The (1, 2) element is: \", B[1, 2])"
   ]
  },
  {
   "cell_type": "markdown",
   "id": "experienced-variation",
   "metadata": {},
   "source": [
    "\n",
    "## <font color='blue'>Exercise 9</font>  \n",
    "\n",
    "Print out the element in the last row and last column of `C`.\n"
   ]
  },
  {
   "cell_type": "code",
   "execution_count": null,
   "id": "educational-lightweight",
   "metadata": {},
   "outputs": [],
   "source": [
    "C = np.array([[1, 2, 3, 4], [5, 6, 7, 8], [9, 10, 11, 12]])\n",
    "\n",
    "# Space for your working\n"
   ]
  },
  {
   "cell_type": "markdown",
   "id": "parental-services",
   "metadata": {},
   "source": [
    "---\n",
    "\n",
    "If you just use a single index for a 2D array, then this extracts a single row, as a 1D array:"
   ]
  },
  {
   "cell_type": "code",
   "execution_count": null,
   "id": "joined-server",
   "metadata": {},
   "outputs": [],
   "source": [
    "D = np.array([[1, 2, 3, 4], [5, 6, 7, 8], [9, 10, 11, 12]])\n",
    "\n",
    "D[0]"
   ]
  },
  {
   "cell_type": "markdown",
   "id": "placed-andorra",
   "metadata": {},
   "source": [
    "If you want a single column, you can use an empty range as the first index:"
   ]
  },
  {
   "cell_type": "code",
   "execution_count": null,
   "id": "direct-bargain",
   "metadata": {},
   "outputs": [],
   "source": [
    "E = np.array([[1, 2, 3, 4], [5, 6, 7, 8], [9, 10, 11, 12]])\n",
    "print(E)\n",
    "print(\"\")\n",
    "print(E[:, 1])"
   ]
  },
  {
   "cell_type": "markdown",
   "id": "awful-challenge",
   "metadata": {},
   "source": [
    "---\n",
    "\n",
    "\n",
    "To extract multiple rows or columns, or a rectangular subset of an array, you can use the same range syntax as above, again separated by commas.\n",
    "\n",
    "\n",
    "## <font color='blue'>Exercise 10</font>  \n",
    "\n",
    "Show the final two columns of the array `F`"
   ]
  },
  {
   "cell_type": "code",
   "execution_count": null,
   "id": "intensive-celebrity",
   "metadata": {},
   "outputs": [],
   "source": [
    "F = np.array([[1, 2, 3, 4], [5, 6, 7, 8], [9, 10, 11, 12]])\n",
    "\n",
    "# Space for your working\n"
   ]
  },
  {
   "cell_type": "markdown",
   "id": "complimentary-contact",
   "metadata": {},
   "source": [
    "---\n",
    "\n",
    "# 5. Array methods\n",
    "\n",
    "Numpy arrays have a large number of helpful methods.  For example, the min and max methods return the smallest and largest values in an array:"
   ]
  },
  {
   "cell_type": "code",
   "execution_count": null,
   "id": "fancy-therapy",
   "metadata": {},
   "outputs": [],
   "source": [
    "G = np.array([-3.1, 5.4, 7.3, 222, 4.444, 3, 0])\n",
    "print(G.min(), G.max())"
   ]
  },
  {
   "cell_type": "markdown",
   "id": "generous-spokesman",
   "metadata": {},
   "source": [
    "## <font color='blue'>Exercise 11</font>  \n",
    "\n",
    "Find out what the methods `H.argmin` and `H.argmax` do, and demonstrate them.  \n",
    "\n",
    "Hint: You can look up their documentation either on-line, or here in this notebook by executing `H.argmin?`, or you can just experiment with them."
   ]
  },
  {
   "cell_type": "code",
   "execution_count": null,
   "id": "productive-organizer",
   "metadata": {},
   "outputs": [],
   "source": [
    "H = np.array([-3.1, 5.4, 7.3, 222, 4.444, 3, 0])\n",
    "\n",
    "# Space for your working\n",
    "\n",
    "# argmin and argmax find the index of the largest and smallest value\n"
   ]
  },
  {
   "cell_type": "markdown",
   "id": "extensive-butterfly",
   "metadata": {},
   "source": [
    "---\n",
    "\n",
    "You can also sort an array using `x.sort()`.  \n",
    "\n",
    "This sorts *in-place*, meaning that it modifies the array directly instead or returning a new copy.  You can use `np.sort` instead if you want a copy."
   ]
  },
  {
   "cell_type": "code",
   "execution_count": null,
   "id": "certified-weekly",
   "metadata": {},
   "outputs": [],
   "source": [
    "K = np.array([-3.1, 5.4, 7.3, 222, 4.444, 3, 0])\n",
    "\n",
    "print(\"Before sorting:\", K)\n",
    "K.sort()\n",
    "print(\"After sorting:\",K)"
   ]
  },
  {
   "cell_type": "markdown",
   "id": "dated-adapter",
   "metadata": {},
   "source": [
    "\n",
    "If instead you want to know the indices that *would* sort an array, you can use `K.argsort()`.\n",
    "\n",
    "\n",
    "## <font color='blue'>Exercise 12</font>  \n",
    "\n",
    "Below, the two arrays `animals` and `legs` represent the names and number of legs of various species.  Sort both arrays from fewest to most feet.\n",
    "\n",
    "Hint: make one index with `argsort` and use it with with arrays."
   ]
  },
  {
   "cell_type": "code",
   "execution_count": null,
   "id": "weighted-yemen",
   "metadata": {},
   "outputs": [],
   "source": [
    "animals = np.array([\"Human\", \"Centipede\", \"Snail\", \"Ant\", \"Cat\", \"Octopus\", \"Dog\"])\n",
    "legs = np.array([2, 100, 0, 6, 4, 8, 4])\n",
    "\n",
    "# Space for your working:\n"
   ]
  }
 ],
 "metadata": {
  "kernelspec": {
   "display_name": "Python 3 (ipykernel)",
   "language": "python",
   "name": "python3"
  },
  "language_info": {
   "codemirror_mode": {
    "name": "ipython",
    "version": 3
   },
   "file_extension": ".py",
   "mimetype": "text/x-python",
   "name": "python",
   "nbconvert_exporter": "python",
   "pygments_lexer": "ipython3",
   "version": "3.9.12"
  }
 },
 "nbformat": 4,
 "nbformat_minor": 5
}

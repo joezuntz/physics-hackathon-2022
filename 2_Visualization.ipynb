{
 "cells": [
  {
   "cell_type": "markdown",
   "id": "conditional-title",
   "metadata": {},
   "source": [
    "# Visualization with matplotlib\n",
    "\n",
    "In this notebook you will learn about the visualization of numerical data using *matplotlib*, the most popular python plotting library.  We will focus on static 2D plotting, though the library can also make animations and 3D visualizations.\n",
    "\n",
    "---\n",
    "\n",
    "## Using this notebook\n",
    "\n",
    "- You should already have completed [the numpy notebook](1_Numpy.ipynb) before trying this one.  The layout is the same.\n",
    "\n",
    "- **Make sure to execute every cell or the ones below may not work**\n",
    "\n"
   ]
  },
  {
   "cell_type": "code",
   "execution_count": null,
   "id": "allied-monte",
   "metadata": {},
   "outputs": [],
   "source": [
    "# This line makes the plots that we will make below appear here in the browser,\n",
    "# instead of opening a new window.\n",
    "%matplotlib inline\n",
    "\n",
    "# The simplest to use matplotlib is via its \"pyplot\" interface,\n",
    "# which contains all the functions we will use below. We rename it\n",
    "# as `\"plt\" since we will be typing it so often\n",
    "import matplotlib.pyplot as plt\n",
    "import numpy as np"
   ]
  },
  {
   "cell_type": "markdown",
   "id": "heavy-vertex",
   "metadata": {},
   "source": [
    "\n",
    "---\n",
    "\n",
    "# 1. Essential plots\n",
    "\n",
    "Matplotlib can make plots of data in either python lists or numpy arrays.  The simplest kind of plots are line and scatter plots, which both just plot *x* vs *y* values.  The `plt.plot` command makes a line graph by default:"
   ]
  },
  {
   "cell_type": "code",
   "execution_count": null,
   "id": "occupied-challenge",
   "metadata": {},
   "outputs": [],
   "source": [
    "# make some data to plot\n",
    "a = np.arange(-10, 11)\n",
    "b = a**2\n",
    "\n",
    "# make a plot of x vs y\n",
    "plt.plot(a, b)"
   ]
  },
  {
   "cell_type": "markdown",
   "id": "renewable-improvement",
   "metadata": {},
   "source": [
    "---\n",
    "\n",
    "If we want a scatter plot, without lines connecting the points, we use the same function but add an optional format argument to change it:"
   ]
  },
  {
   "cell_type": "code",
   "execution_count": null,
   "id": "failing-samba",
   "metadata": {},
   "outputs": [],
   "source": [
    "# Unsorted data - if we were to plot this as a line graph\n",
    "# it would jump around the axes\n",
    "c = np.array([2, 4, 6, 8, -2, -4, -6, -8])\n",
    "d = c**2\n",
    "\n",
    "plt.plot(c, d, '.')"
   ]
  },
  {
   "cell_type": "markdown",
   "id": "continuing-swift",
   "metadata": {},
   "source": [
    "---\n",
    "\n",
    "\n",
    "The third argument can specify the colour of the plot and the style of the line or points.  \n",
    "\n",
    "- Choose the colour with a single letter, one of <font color='red'>**r**</font>, <font color='green'>**g**</font>, <font color='blue'>**b**</font>, <font color='cyan'>**c**</font>, <font color='magenta'>**m**</font>, <font color='yellow'>**y**</font>, <font color='black'>**k**</font>\n",
    "\n",
    "\n",
    "- Choose the style with one of the choices on <a href=\"https://matplotlib.org/stable/api/markers_api.html\">the matplotlib markers web page</a>, and/or one of '-' (solid lines), '--' (dashed lines), '..' (dotted lines) or '-.' (dash-dot lines)\n",
    "\n",
    "For example, if you wanted red dashed lines as the style, you would use 'r--'.\n",
    "\n",
    "\n",
    "## <font color='blue'>Exercise 1</font>  \n",
    "\n",
    "Repeat the last plot, but with `c` and `d` the other way around, and using green stars for the markers."
   ]
  },
  {
   "cell_type": "code",
   "execution_count": null,
   "id": "complicated-regard",
   "metadata": {},
   "outputs": [],
   "source": [
    "# Space for your working\n"
   ]
  },
  {
   "cell_type": "markdown",
   "id": "unknown-infrastructure",
   "metadata": {},
   "source": [
    "Scatter plots like these are particularly useful for plotting one set of data against another to learn about whether there is some statistical relationship between them (rather than a simple mathematical relationship like here).\n",
    "\n",
    "---\n",
    "\n",
    "You can put multiple data sets on the same plot by including them in the same cell.  Matplotlib will automatically cycle through colours if you do not specify them explicitly:"
   ]
  },
  {
   "cell_type": "code",
   "execution_count": null,
   "id": "damaged-castle",
   "metadata": {},
   "outputs": [],
   "source": [
    "e = np.arange(-0.5, 1.5, 0.01)\n",
    "f = e**2\n",
    "g = e**3\n",
    "\n",
    "plt.plot(e, f)\n",
    "plt.plot(e, g)"
   ]
  },
  {
   "cell_type": "markdown",
   "id": "demanding-circumstances",
   "metadata": {},
   "source": [
    "Plots can become crowded very easily if you include many points, so experimenting with colours and styles is often needed to make something readable.\n",
    "\n",
    "---\n",
    "\n",
    "You can do lots more customization of each plot by specifying various keywords to `plt.plot` (some of these override the format option we used above).  You can change:\n",
    "\n",
    "- Colours of different components from the wider <a href=\"https://matplotlib.org/stable/gallery/color/named_colors.html\">matplotlib colour list</a> using `color`, `linecolor`, `markerfacecolor`, or `markeredgecolor`.\n",
    "\n",
    "\n",
    "- The size of points using `markersize`\n",
    "\n",
    "\n",
    "- The width of lines using `linewidth`\n",
    "\n",
    "\n",
    "- The marker and line style using `marker` and `linestyle`\n",
    "\n",
    "\n",
    "## <font color='blue'>Exercise 2</font>  \n",
    "\n",
    "\n",
    "Make a single plot of:\n",
    "- a sine curve\n",
    "- with 50 evenly spaced points from 0 .. 10\n",
    "- drawn as size 10 red squares with black edges\n",
    "- with no line connecting them\n",
    "\n",
    "Hint: recall the numpy functions `np.linspace` and `np.sin` for creating the data."
   ]
  },
  {
   "cell_type": "code",
   "execution_count": null,
   "id": "leading-metabolism",
   "metadata": {},
   "outputs": [],
   "source": [
    "# Space for your working\n"
   ]
  },
  {
   "cell_type": "markdown",
   "id": "elementary-produce",
   "metadata": {},
   "source": [
    "---\n",
    "\n",
    "\n",
    "Another standard plot type is a histogram, which shows the frequency of different values in a data set."
   ]
  },
  {
   "cell_type": "code",
   "execution_count": null,
   "id": "piano-cocktail",
   "metadata": {},
   "outputs": [],
   "source": [
    "# This numpy function generates Normal (also known as \"Gaussian\") random numbers,\n",
    "# in this case 100000 numbers with mean 10 and standard deviation 3.\n",
    "m = np.random.normal(10, 3, size=100000)\n",
    "plt.hist(m)"
   ]
  },
  {
   "cell_type": "markdown",
   "id": "spectacular-channel",
   "metadata": {},
   "source": [
    "You may notice that the notebook has printed out a bunch of numbers and things before the plot.  This is because the `plt.hist` function returns the numbers it finds in plotting as well as show the plot itself.  You can stop this by putting a semicolon `;` at the end of the last line in a cell.\n",
    "\n",
    "---\n",
    "\n",
    "## <font color='blue'>Exercise 3</font>  \n",
    "\n",
    "The histogram above is a bit blocky - matplotlib only uses a small number of bins as a default.  Have a look at the documentation for `plt.hist`, and plot this histogram with 100 bins instead of the default.\n",
    "\n",
    "*Hint*: you can get documentation on the function by running a cell containing `plt.hist?`"
   ]
  },
  {
   "cell_type": "code",
   "execution_count": null,
   "id": "noticed-remove",
   "metadata": {},
   "outputs": [],
   "source": [
    "# Space for your working\n"
   ]
  },
  {
   "cell_type": "markdown",
   "id": "horizontal-investment",
   "metadata": {},
   "source": [
    "---\n",
    "\n",
    "\n",
    "# 2. Labelling and customizing\n",
    "\n",
    "Good graphs have labels describing what they are showing. You can add titles and axis labels by running several matplotlib functions after you create a plot:"
   ]
  },
  {
   "cell_type": "code",
   "execution_count": null,
   "id": "breeding-palestine",
   "metadata": {},
   "outputs": [],
   "source": [
    "# As an aside, here's a nice way to plot a spiral, using a parametric plot:\n",
    "r = np.arange(0., 40., 0.1)\n",
    "p = np.sin(r) * np.exp(-r/10)\n",
    "q = np.cos(r) * np.exp(-r/10)\n",
    "plt.plot(p, q)\n",
    "\n",
    "# Add our labels\n",
    "plt.xlabel(\"The x axis label\")\n",
    "plt.ylabel(\"The y axis label\")\n",
    "plt.title(\"The title at the top\")"
   ]
  },
  {
   "cell_type": "markdown",
   "id": "prerequisite-kingston",
   "metadata": {},
   "source": [
    "---\n",
    "\n",
    "You can use the functions `plt.xlim` and `plt.ylim` to adjust the ranges of data shown on the `x` and `y` axes of plots, to zoom in or out.\n",
    "\n",
    "They take two arguments, `left/right` for `xlim` and `top/bottom` for `ylim`, which adjust the specified edge. \n",
    "\n",
    "Either can be set/left as the default value `None`, which means \"don't change this edge\".\n",
    "\n",
    "---\n",
    "\n",
    "## <font color='blue'>Exercise 4</font>  \n",
    "\n",
    "Remake the spiral plot above, but zooming the x-axis in to the range (0.0, 0.3) and change the y-axis bottom to zero."
   ]
  },
  {
   "cell_type": "code",
   "execution_count": null,
   "id": "maritime-composition",
   "metadata": {},
   "outputs": [],
   "source": [
    "r = np.arange(0., 40., 0.1)\n",
    "p = np.sin(r) * np.exp(-r/10)\n",
    "q = np.cos(r) * np.exp(-r/10)\n",
    "plt.plot(p, q)\n",
    "plt.xlabel(\"The x axis label\")\n",
    "plt.ylabel(\"The y axis label\")\n",
    "plt.title(\"The title at the top\")\n",
    "\n",
    "# Space for your working\n"
   ]
  },
  {
   "cell_type": "markdown",
   "id": "pointed-programming",
   "metadata": {},
   "source": [
    "---\n",
    "\n",
    "You can also customize the position and labels of the tick marks on the x and y axes using the `xticks` and `yticks` commands"
   ]
  },
  {
   "cell_type": "code",
   "execution_count": null,
   "id": "aboriginal-current",
   "metadata": {},
   "outputs": [],
   "source": [
    "u = np.arange(0, 4*np.pi, 0.1)\n",
    "v = np.cos(u)\n",
    "plt.plot(u, v)\n",
    "plt.yticks([-1, 0, 1], [\"Min\", \"Mid\", \"Max\"], color='Blue');\n",
    "\n",
    "# This command switches on the mini-ticks in between the larger ones\n",
    "plt.minorticks_on()"
   ]
  },
  {
   "cell_type": "markdown",
   "id": "crazy-allocation",
   "metadata": {},
   "source": [
    "---\n",
    "\n",
    "On plots with multiple labels it is often a good idea to include a legend to tell viewers what the different lines mean.  To do this in matplotlib:\n",
    "\n",
    "- Add the keyword `label` to each plot you want in the legend\n",
    "\n",
    "\n",
    "- Call `plt.legend()` after you finish:\n",
    "\n"
   ]
  },
  {
   "cell_type": "code",
   "execution_count": null,
   "id": "complimentary-rally",
   "metadata": {},
   "outputs": [],
   "source": [
    "x = np.arange(0., 5., 0.01)\n",
    "y = x**2\n",
    "z = np.exp(x)\n",
    "plt.plot(x, y, label='Quadratic')\n",
    "plt.plot(x, z, label='Exponential')\n",
    "plt.legend()"
   ]
  },
  {
   "cell_type": "markdown",
   "id": "bridal-bread",
   "metadata": {},
   "source": [
    "---\n",
    "\n",
    "\n",
    "## <font color='blue'>Exercise 5</font>  \n",
    "\n",
    "Look at the documentation for `plt.legend` and repeat the plot above but in the upper-middle of the axes, and with a larger font size.\n",
    "\n",
    "Hint: If you look at the <a href=\"https://matplotlib.org/stable/api/_as_gen/matplotlib.pyplot.legend.html\">legend documentation on the matplotlib website</a> then it is easier to search through for the things you want"
   ]
  },
  {
   "cell_type": "code",
   "execution_count": null,
   "id": "departmental-cathedral",
   "metadata": {},
   "outputs": [],
   "source": [
    "# Space for your workings\n"
   ]
  },
  {
   "cell_type": "markdown",
   "id": "regulated-petroleum",
   "metadata": {},
   "source": [
    "---\n",
    "\n",
    "# 3. Multiple Plots\n",
    "\n",
    "It's often useful to include multiple plots in the same image.  Matplotlib uses the term *Figure* to mean the complete image, and then *axis* to mean one rectangular region within that image.  \n",
    "\n",
    "The plot commands we have been using above automatically make new figures and axes internally, but we can also control it manually.  In the latter case, axis objects have a method `plot` which behaves just like the `plt.plot` command.\n",
    "\n",
    "You can use the function `plt.subplots` to make a figure divided into different subplots:"
   ]
  },
  {
   "cell_type": "code",
   "execution_count": null,
   "id": "olympic-olive",
   "metadata": {},
   "outputs": [],
   "source": [
    "A = np.arange(0, 1., 0.1)\n",
    "\n",
    "# Set up our plotting area\n",
    "fig, axes = plt.subplots(ncols=2)\n",
    "\n",
    "# \"fig\" is now a figure object representing the whole image.\n",
    "# \"axes\" is an array of axis objects, each of which we can use to plot things.\n",
    "\n",
    "# Plot something in each of the axes\n",
    "axes[0].plot(A,  A**2, 'blue')\n",
    "axes[1].plot(A, -A**2, 'red')"
   ]
  },
  {
   "cell_type": "markdown",
   "id": "collaborative-crack",
   "metadata": {},
   "source": [
    "---\n",
    "\n",
    "## <font color='blue'>Exercise 6</font>  \n",
    "\n",
    "Make a set of four plots over two rows and two colums, and plot `A` vs  `A`, `A**2`, `A**3`, and `A**4` in them.\n",
    "\n",
    "Hint: `axes` will be a 2x2 array in this case.\n"
   ]
  },
  {
   "cell_type": "code",
   "execution_count": null,
   "id": "american-coach",
   "metadata": {},
   "outputs": [],
   "source": [
    "A = np.arange(0, 1., 0.1)\n",
    "\n",
    "# Space for your workings\n"
   ]
  },
  {
   "cell_type": "markdown",
   "id": "starting-leave",
   "metadata": {},
   "source": [
    "---\n",
    "\n",
    "You can provide the keyword `figsize` to `plt.subplots` to make a larger or smaller image.  The unit size is inches (1 inch = 2.54 cm):"
   ]
  },
  {
   "cell_type": "code",
   "execution_count": null,
   "id": "educational-fundamental",
   "metadata": {},
   "outputs": [],
   "source": [
    "# make a wide and short figure\n",
    "fig, axes = plt.subplots(ncols=3, figsize=(10, 2))\n",
    "axes[0].plot(A)\n",
    "axes[1].plot(A**2)\n",
    "axes[2].plot(A**3)"
   ]
  },
  {
   "cell_type": "markdown",
   "id": "smoking-judge",
   "metadata": {},
   "source": [
    "---\n",
    "\n",
    "## 4. 2D Data\n",
    "\n",
    "\n",
    "As well as plotting 1D data as we've done above, matplotlib can display 2D data in a variety of ways, including directly as images as well as contour plots that show levels.\n",
    "\n",
    "Let's load a height map of the Edinburgh area in a file, which we downloaded from the Ordnance Survey, and use that as our 2D data.\n",
    "\n"
   ]
  },
  {
   "cell_type": "code",
   "execution_count": null,
   "id": "experimental-report",
   "metadata": {},
   "outputs": [],
   "source": [
    "# This numpy function loads simple text data\n",
    "height = np.loadtxt(\"data/elevation_map.txt\")\n",
    "\n",
    "# Make an empty plot, 8 inches x 8 inches (though may appear smaller on your screen)\n",
    "plt.subplots(figsize=(8, 8))\n",
    "\n",
    "# The imshow function shows a 2D data set with numbers mapped to colours\n",
    "plt.imshow(height)"
   ]
  },
  {
   "cell_type": "markdown",
   "id": "guided-break",
   "metadata": {},
   "source": [
    "----\n",
    "\n",
    "The choice of relationship between number and colour is important, and can bring out details that otherwise the eye does not see:\n",
    "\n",
    "- The function `imshow` has arguments `vmin` and `vmax`, which chooses the lowest and highest values at which to saturate the colours.\n",
    "\n",
    "\n",
    "-  It also has an argument `cmap`, which you usually set to a string naming one of the matplotlib colour maps.  Have a look at the  [complete list of matplotlib colour maps](https://matplotlib.org/stable/tutorials/colors/colormaps.html), part-way down the page.\n",
    "\n",
    "\n",
    "- After running a plot you can call `plt.colorbar()` to add a colour scale.\n",
    "\n",
    "## <font color='blue'>Exercise 7</font>  \n",
    "\n",
    "Remake the visualization above, using the range 0 .. 200 meters as the colour range.  Change the colour map to a sensible one of your choices, and add a colour scale."
   ]
  },
  {
   "cell_type": "code",
   "execution_count": null,
   "id": "paperback-department",
   "metadata": {},
   "outputs": [],
   "source": [
    "# Space for your workings\n"
   ]
  },
  {
   "cell_type": "markdown",
   "id": "capital-survival",
   "metadata": {},
   "source": [
    "---\n",
    "\n",
    "As well as a colour map like this one, matplotlib can also plot contours (lines of constant value, in this case lines of constant height, as you would find on a survey map).  This can help the eye pick out flat versus steep areas."
   ]
  },
  {
   "cell_type": "code",
   "execution_count": null,
   "id": "capital-personal",
   "metadata": {},
   "outputs": [],
   "source": [
    "plt.subplots(figsize=(8,8))\n",
    "\n",
    "# The default levels matplotlib will draw split the range evenly into\n",
    "# ten groups.  That's not very useful here - instead let's explicitly specify\n",
    "# the contour levels we want as 0, 10m, 20m, 30m, 40m, ..., 270m\n",
    "levels=np.arange(0, 280, 10)\n",
    "\n",
    "# Matplotlib assumes that our data starts at the bottom left for\n",
    "# contour plots. We have to explicitly tell it with the origin\n",
    "# keyword to start at the upper left instead.  Without 'origin=upper'\n",
    "# our map would be upside-down.\n",
    "plt.contour(height, origin='upper', levels=levels)\n",
    "\n",
    "\n",
    "plt.colorbar()"
   ]
  },
  {
   "cell_type": "markdown",
   "id": "square-crash",
   "metadata": {},
   "source": [
    "---\n",
    "\n",
    "## <font color='blue'>Exercise 8</font>  \n",
    "\n",
    "Repeat the above plot with the function `contourf` instead of `contour`, and again choose a new colour scheme."
   ]
  },
  {
   "cell_type": "code",
   "execution_count": null,
   "id": "thousand-rating",
   "metadata": {},
   "outputs": [],
   "source": [
    "# Space for your workings for this exercise\n"
   ]
  },
  {
   "cell_type": "markdown",
   "id": "sapphire-pride",
   "metadata": {},
   "source": [
    "---\n",
    "\n",
    "## 5. Saving images\n",
    "\n",
    "After making a plot, you can save it with the `plt.savefig` command.  When using an EDINA-based notebook, this will save into the cloud next to your notebook, and you can download it from the main Jupyter page where you explore your notebooks.\n",
    "\n",
    "You can save in many formats - the suffix on the filename you give to `plt.savefig` will decide what format is used. In general PNGs are best for web usage and PDFs for publications.\n",
    "\n",
    "**Taking screen shots of images will usually give you degraded quality**\n",
    "\n",
    "---"
   ]
  },
  {
   "cell_type": "markdown",
   "id": "exterior-renewal",
   "metadata": {},
   "source": [
    "## <font color='blue'>Exercise 9</font>  \n",
    "\n",
    "\n",
    "The file `data/hiv_contraception_2010.txt` is derived from a 2010 world bank development indicator data set.  The first column is the percentage of women aged 15-49 who use some kind of contraceptive measure. The second is the percentage of the population with HIV.\n",
    "\n",
    "\n",
    "- Load the data file with `np.loadtxt`.\n",
    "\n",
    "\n",
    "- Turn it into two variables, for the first and second columns. \n",
    "\n",
    "\n",
    "- Make a scatter plot of the two variables\n",
    "\n",
    "\n",
    "- Zoom to the range 0 - 10% on the HIV axis\n",
    "\n",
    "\n",
    "- Add axis labels and a title\n",
    "\n",
    "\n",
    "- Save the file as a PNG image\n"
   ]
  },
  {
   "cell_type": "code",
   "execution_count": null,
   "id": "explicit-israeli",
   "metadata": {},
   "outputs": [],
   "source": [
    "# Space for your working\n"
   ]
  },
  {
   "cell_type": "code",
   "execution_count": null,
   "id": "heated-doctor",
   "metadata": {},
   "outputs": [],
   "source": []
  }
 ],
 "metadata": {
  "kernelspec": {
   "display_name": "Python 3 (ipykernel)",
   "language": "python",
   "name": "python3"
  },
  "language_info": {
   "codemirror_mode": {
    "name": "ipython",
    "version": 3
   },
   "file_extension": ".py",
   "mimetype": "text/x-python",
   "name": "python",
   "nbconvert_exporter": "python",
   "pygments_lexer": "ipython3",
   "version": "3.9.12"
  }
 },
 "nbformat": 4,
 "nbformat_minor": 5
}

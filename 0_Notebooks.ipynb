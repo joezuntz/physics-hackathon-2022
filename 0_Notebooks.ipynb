{
 "cells": [
  {
   "cell_type": "markdown",
   "id": "excess-graphics",
   "metadata": {},
   "source": [
    "# How to use these notebooks\n",
    "\n",
    "The preparation work for this course is presented using these *Jupyter notebooks*.  If you have used them before you can skip this first one.  Otherwise, please go through it to get an idea of how to use notebooks for the rest of the course.\n",
    "\n",
    "---"
   ]
  },
  {
   "cell_type": "markdown",
   "id": "armed-detail",
   "metadata": {},
   "source": [
    "# 1. Cells\n",
    "\n",
    "A jupyter notebook consists of a series of cells.  There are two types of cell:\n",
    "\n",
    "- The ones with a white background, like this one, contain explanatory text.\n",
    "\n",
    "\n",
    "- The ones with a grey background contain python code.\n",
    "\n",
    "You execute a grey cell by clicking on it, so a box appears around it, and then pressing SHIFT + ENTER.  \n",
    "\n",
    "Execute the cell below."
   ]
  },
  {
   "cell_type": "code",
   "execution_count": null,
   "id": "recorded-helena",
   "metadata": {},
   "outputs": [],
   "source": [
    "print(\"This is python code.\")\n",
    "print(\"47 x 9 = \", 47 * 9)"
   ]
  },
  {
   "cell_type": "markdown",
   "id": "polyphonic-james",
   "metadata": {},
   "source": [
    "When you execute a cell python will run every line in it.  If the final line returns a value, then that value will be displayed underneath, even if you don't explicitly `print` it.\n",
    "\n",
    "Execute the cell below to see this:"
   ]
  },
  {
   "cell_type": "code",
   "execution_count": null,
   "id": "catholic-graduation",
   "metadata": {},
   "outputs": [],
   "source": [
    "# number of weeks in a year (this is a comment)\n",
    "365 / 7"
   ]
  },
  {
   "cell_type": "markdown",
   "id": "expanded-scanner",
   "metadata": {},
   "source": [
    "If you accidentally double-click on a white cell and its appearance changes, you can also execute it in the same way to make it look right again.\n",
    "\n",
    "It's also possible to accidentally turn a python cell into an explanation cell.  To turn it back, click it and the change the drop-down menu in the tool bar at the top of the page from \"Markdown\" to \"Code\".  Do that with the next cell, and execute it.\n"
   ]
  },
  {
   "cell_type": "markdown",
   "id": "ecological-teens",
   "metadata": {},
   "source": [
    "print(\"Turn this cell back to code\")"
   ]
  },
  {
   "cell_type": "markdown",
   "id": "convenient-posting",
   "metadata": {},
   "source": [
    "---\n",
    "\n",
    "# 2. Variables\n",
    "\n",
    "Python remembers the values of variables between cells.  Try executing both these cells one after another:"
   ]
  },
  {
   "cell_type": "code",
   "execution_count": null,
   "id": "possible-daisy",
   "metadata": {},
   "outputs": [],
   "source": [
    "x = 7\n",
    "y = 1.40"
   ]
  },
  {
   "cell_type": "code",
   "execution_count": null,
   "id": "absolute-teacher",
   "metadata": {},
   "outputs": [],
   "source": [
    "x = x * 2\n",
    "print(x)"
   ]
  },
  {
   "cell_type": "markdown",
   "id": "crazy-council",
   "metadata": {},
   "source": [
    "If you modify a variable, python will remember the modified version.  Try executing the second cell directly above a few times and see how the variable `x` is updated each time."
   ]
  },
  {
   "cell_type": "markdown",
   "id": "competitive-chess",
   "metadata": {},
   "source": [
    "---\n",
    "\n",
    "You don't have to execute cells in order.  In fact it can often be helpful to go back and change an earlier cell if you got it wrong.\n",
    "\n",
    "Execute the two cells below, and then go back to correct the first one and re-execute both.\n",
    "\n"
   ]
  },
  {
   "cell_type": "code",
   "execution_count": null,
   "id": "auburn-victory",
   "metadata": {},
   "outputs": [],
   "source": [
    "N = 364  # number of days in a year"
   ]
  },
  {
   "cell_type": "code",
   "execution_count": null,
   "id": "embedded-gateway",
   "metadata": {},
   "outputs": [],
   "source": [
    "print(\"Average days per month = \", N / 12)"
   ]
  },
  {
   "cell_type": "markdown",
   "id": "reliable-likelihood",
   "metadata": {},
   "source": [
    "---\n",
    "\n",
    "Python will remember what happened in a cell *even if you change or delete the cell later*!  It's easy to get confused because you have old variables hanging around even though you deleted cells where they were made.  You can print out the values of all the variables python currently knows by running the special Jupyter `whos` command.  Try running the cell below to see this"
   ]
  },
  {
   "cell_type": "code",
   "execution_count": null,
   "id": "sound-wallace",
   "metadata": {},
   "outputs": [],
   "source": [
    "whos"
   ]
  },
  {
   "cell_type": "markdown",
   "id": "bottom-guest",
   "metadata": {},
   "source": [
    "Be very careful executing cells out of order! If in doubt, you can always reset the notebook by clicking the circular arrow button in the toolbar.  That will delete all variables and you can start again from the top.\n",
    "\n",
    "---\n",
    "\n",
    "\n",
    "# 3. Adding & Moving Cells\n",
    "\n",
    "Click the \"+\" button in the tool bar to add a new python cell below the currently highlighted one.  Do that now below this cell, and  write any python code in it:"
   ]
  },
  {
   "cell_type": "markdown",
   "id": "outdoor-princess",
   "metadata": {},
   "source": [
    "You can also delete (cut) a cell with the scissor button.\n",
    "\n",
    "---\n",
    "\n",
    "The cells below are in the wrong order.  You can move cells up or down by selecting one and clicking the up/down arrows to change the ordering.  Fix the ordering and execute both cells."
   ]
  },
  {
   "cell_type": "code",
   "execution_count": null,
   "id": "roman-conjunction",
   "metadata": {},
   "outputs": [],
   "source": [
    "print(z)"
   ]
  },
  {
   "cell_type": "code",
   "execution_count": null,
   "id": "superb-synthesis",
   "metadata": {},
   "outputs": [],
   "source": [
    "z = 150"
   ]
  },
  {
   "cell_type": "markdown",
   "id": "animal-expense",
   "metadata": {},
   "source": [
    "# 4. Saving your work"
   ]
  },
  {
   "cell_type": "markdown",
   "id": "stable-singapore",
   "metadata": {},
   "source": [
    "Your notebook is sometimes auto-saved, but it's wise to periodically save it manually by clicking the save icon on the toolbar.\n",
    "\n",
    "You can also download your notebook to your computer by clicking File > Download as > Notebook (.ipynb) to keep it in its native form, or as a \"PDF via LaTeX\" if you want to print it out."
   ]
  },
  {
   "cell_type": "markdown",
   "id": "fatty-worthy",
   "metadata": {},
   "source": [
    "# 5. Stopping a notebook\n",
    "\n",
    "The cell below will run forever!  Execute it, and then click the stop button in the toolbar when you get bored.  This is a contrived example, but in real life it's easy to run a task that will take far too long.\n",
    "\n",
    "You can tell a cell is still running because there will be an asterisk symbol * to its left: `In [*]:`.\n",
    "\n",
    "Sometimes the \"stop\" button takes a few moments to work."
   ]
  },
  {
   "cell_type": "code",
   "execution_count": null,
   "id": "aboriginal-amateur",
   "metadata": {},
   "outputs": [],
   "source": [
    "x = 1\n",
    "while x > 0:\n",
    "    x = x + 1"
   ]
  },
  {
   "cell_type": "markdown",
   "id": "beneficial-evanescence",
   "metadata": {},
   "source": [
    "Let's see how many times the code went through the loop above before you clicked stop.  Execute the cell below to find out."
   ]
  },
  {
   "cell_type": "code",
   "execution_count": null,
   "id": "colonial-eleven",
   "metadata": {},
   "outputs": [],
   "source": [
    "print(x)"
   ]
  },
  {
   "cell_type": "markdown",
   "id": "contemporary-marshall",
   "metadata": {},
   "source": [
    "---\n",
    "\n",
    "This is the end of the introductory notebook.  You can now start on the others."
   ]
  }
 ],
 "metadata": {
  "kernelspec": {
   "display_name": "Python 3 (ipykernel)",
   "language": "python",
   "name": "python3"
  },
  "language_info": {
   "codemirror_mode": {
    "name": "ipython",
    "version": 3
   },
   "file_extension": ".py",
   "mimetype": "text/x-python",
   "name": "python",
   "nbconvert_exporter": "python",
   "pygments_lexer": "ipython3",
   "version": "3.9.12"
  }
 },
 "nbformat": 4,
 "nbformat_minor": 5
}
